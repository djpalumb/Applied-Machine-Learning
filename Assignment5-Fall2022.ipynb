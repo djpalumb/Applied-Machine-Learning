{
  "cells": [
    {
      "attachments": {},
      "cell_type": "markdown",
      "id": "d9bcdbd2-3401-41ad-a83f-830e9346e607",
      "metadata": {
        "id": "d9bcdbd2-3401-41ad-a83f-830e9346e607"
      },
      "source": [
        "# **Applied Machine Learning Homework 5**\n",
        "\n",
        "David: David Palumbo\n"
      ]
    },
    {
      "cell_type": "markdown",
      "id": "70df26be-5638-4b0d-a252-4437eb76aa46",
      "metadata": {
        "id": "70df26be-5638-4b0d-a252-4437eb76aa46"
      },
      "source": [
        "### Natural Language Processing\n",
        "We will train a supervised model to predict if a movie has a positive or a negative review."
      ]
    },
    {
      "cell_type": "markdown",
      "id": "2e0d9a19-25ea-4490-b0e8-7909bcdc3d9d",
      "metadata": {
        "id": "2e0d9a19-25ea-4490-b0e8-7909bcdc3d9d"
      },
      "source": [
        "####  **Dataset loading & dev/test splits**"
      ]
    },
    {
      "cell_type": "markdown",
      "id": "fafa37c4-c8fc-4697-9bbe-11539d710bf7",
      "metadata": {
        "id": "fafa37c4-c8fc-4697-9bbe-11539d710bf7"
      },
      "source": [
        "**1.0) Load the movie reviews dataset from NLTK library**"
      ]
    },
    {
      "cell_type": "code",
      "execution_count": 45,
      "id": "5f4ce405-237b-42d2-9c81-25ff28deaf4a",
      "metadata": {
        "colab": {
          "base_uri": "https://localhost:8080/"
        },
        "id": "5f4ce405-237b-42d2-9c81-25ff28deaf4a",
        "outputId": "46c1d8f9-5493-4df8-e40f-b62cf7bfbbfc"
      },
      "outputs": [
        {
          "name": "stderr",
          "output_type": "stream",
          "text": [
            "[nltk_data] Downloading package movie_reviews to\n",
            "[nltk_data]     C:\\Users\\dpalumbo\\AppData\\Roaming\\nltk_data...\n",
            "[nltk_data]   Package movie_reviews is already up-to-date!\n",
            "[nltk_data] Downloading package stopwords to\n",
            "[nltk_data]     C:\\Users\\dpalumbo\\AppData\\Roaming\\nltk_data...\n",
            "[nltk_data]   Package stopwords is already up-to-date!\n",
            "[nltk_data] Downloading package punkt to\n",
            "[nltk_data]     C:\\Users\\dpalumbo\\AppData\\Roaming\\nltk_data...\n",
            "[nltk_data]   Package punkt is already up-to-date!\n"
          ]
        }
      ],
      "source": [
        "import nltk\n",
        "nltk.download(\"movie_reviews\")\n",
        "from nltk.corpus import movie_reviews\n",
        "import pandas as pd\n",
        "from nltk.corpus import twitter_samples \n",
        "from sklearn.model_selection import train_test_split\n",
        "from nltk.corpus import stopwords\n",
        "nltk.download('stopwords')\n",
        "nltk.download('punkt')\n",
        "stop = stopwords.words('english')\n",
        "import string\n",
        "import re\n",
        "from nltk.stem import PorterStemmer\n",
        "from nltk.tokenize import word_tokenize\n",
        "from sklearn.feature_extraction.text import CountVectorizer\n",
        "from sklearn.linear_model import LogisticRegression\n",
        "from sklearn.feature_extraction.text import TfidfVectorizer"
      ]
    },
    {
      "cell_type": "code",
      "execution_count": 46,
      "id": "Nmt1nVaNpkKy",
      "metadata": {
        "id": "Nmt1nVaNpkKy"
      },
      "outputs": [],
      "source": [
        "negative_fileids = movie_reviews.fileids('neg')\n",
        "positive_fileids = movie_reviews.fileids('pos')\n",
        "\n",
        "pos_document = [(' '.join(movie_reviews.words(file_id)),category) for file_id in movie_reviews.fileids() for category in movie_reviews.categories(file_id) if category == 'pos']\n",
        "neg_document = [(' '.join(movie_reviews.words(file_id)),category) for file_id in movie_reviews.fileids() for category in movie_reviews.categories(file_id) if category == 'neg']\n",
        "\n",
        "# List of postive and negative reviews\n",
        "pos_list = [pos[0] for pos in pos_document]\n",
        "neg_list = [neg[0] for neg in neg_document]"
      ]
    },
    {
      "cell_type": "markdown",
      "id": "-B4xT6L714l2",
      "metadata": {
        "id": "-B4xT6L714l2"
      },
      "source": [
        "**1.1) Make a data frame that has reviews and its label**"
      ]
    },
    {
      "cell_type": "code",
      "execution_count": 47,
      "id": "zFkLGJ5p118y",
      "metadata": {
        "id": "zFkLGJ5p118y"
      },
      "outputs": [
        {
          "name": "stdout",
          "output_type": "stream",
          "text": [
            "                                              review  label\n",
            "0  films adapted from comic books have had plenty...      1\n",
            "1  every now and then a movie comes along from a ...      1\n",
            "2  you ' ve got mail works alot better than it de...      1\n",
            "3  \" jaws \" is a rare film that grabs your attent...      1\n",
            "4  moviemaking is a lot like being the general ma...      1\n",
            "Number of examples in final dataset:  2000\n"
          ]
        }
      ],
      "source": [
        "# code here\n",
        "import numpy as np\n",
        "\n",
        "total_data = {\"review\":pos_list+neg_list, \"label\":[1]*len(pos_list) + [0]*len(neg_list)}\n",
        "ds = pd.DataFrame(total_data)\n",
        "\n",
        "print(ds.head())\n",
        "\n",
        "print(\"Number of examples in final dataset: \", len(ds))"
      ]
    },
    {
      "cell_type": "markdown",
      "id": "eWdYSe2xxxCz",
      "metadata": {
        "id": "eWdYSe2xxxCz"
      },
      "source": [
        "**1.2 look at the class distribution of the movie reviews**"
      ]
    },
    {
      "cell_type": "code",
      "execution_count": 48,
      "id": "2be173e3",
      "metadata": {
        "id": "2be173e3"
      },
      "outputs": [
        {
          "data": {
            "text/plain": [
              "Text(0.5, 1.0, 'Distribution of Class Label')"
            ]
          },
          "execution_count": 48,
          "metadata": {},
          "output_type": "execute_result"
        },
        {
          "data": {
            "image/png": "[encoded data removed]",
            "text/plain": [
              "<Figure size 640x480 with 1 Axes>"
            ]
          },
          "metadata": {},
          "output_type": "display_data"
        }
      ],
      "source": [
        "# code here\n",
        "def pct_func(pct):\n",
        "    val = int(np.around((pct * len(ds))/100))\n",
        "    return '{p:.1f}%\\n({v:d})'.format(p=pct,v=val)\n",
        "\n",
        "ax = ds.groupby(\"label\").size().plot(kind=\"pie\", autopct=pct_func)\n",
        "ax.set_title(\"Distribution of Class Label\")"
      ]
    },
    {
      "cell_type": "markdown",
      "id": "12eae071-fd8a-4a46-9958-0525c635fd88",
      "metadata": {
        "id": "12eae071-fd8a-4a46-9958-0525c635fd88"
      },
      "source": [
        "**1.3) Create a development & test split (80/20 ratio):**"
      ]
    },
    {
      "cell_type": "code",
      "execution_count": 49,
      "id": "1a09323b",
      "metadata": {
        "id": "1a09323b"
      },
      "outputs": [
        {
          "name": "stdout",
          "output_type": "stream",
          "text": [
            "dev_y:\n",
            "1    801\n",
            "0    799\n",
            "Name: label, dtype: int64\n",
            "test_y:\n",
            "0    201\n",
            "1    199\n",
            "Name: label, dtype: int64\n"
          ]
        }
      ],
      "source": [
        "# code here\n",
        "from sklearn.model_selection import train_test_split\n",
        "\n",
        "dev_text, test_text, dev_y, test_y = train_test_split(ds[\"review\"], ds[\"label\"], test_size=0.2, random_state=42)\n",
        "\n",
        "print(\"dev_y:\")\n",
        "print(dev_y.value_counts())\n",
        "print(\"test_y:\")\n",
        "print(test_y.value_counts())"
      ]
    },
    {
      "cell_type": "markdown",
      "id": "32b23398-e80e-4624-b89e-c02fabfd3f8d",
      "metadata": {
        "id": "32b23398-e80e-4624-b89e-c02fabfd3f8d"
      },
      "source": [
        "#### **Data preprocessing**\n",
        "We will do some data preprocessing before we tokenize the data. We will remove `#` symbol, hyperlinks, stop words & punctuations from the data. You may use `re` package for this. "
      ]
    },
    {
      "cell_type": "markdown",
      "id": "f89d9d69-1640-4583-a7b7-7ec04ccf3310",
      "metadata": {
        "id": "f89d9d69-1640-4583-a7b7-7ec04ccf3310"
      },
      "source": [
        "**1.4) Replace the `#` symbol with '' in every review**"
      ]
    },
    {
      "cell_type": "code",
      "execution_count": 50,
      "id": "5db4dd6d-e775-49d3-96e1-57620c042d46",
      "metadata": {
        "id": "5db4dd6d-e775-49d3-96e1-57620c042d46"
      },
      "outputs": [],
      "source": [
        "# code here\n",
        "for index, row in dev_text.items():\n",
        "    row = re.sub(\"#\", \"\", row)\n",
        "\n",
        "for index, row in test_text.items():\n",
        "    row = re.sub(\"#\", \"\", row)\n"
      ]
    },
    {
      "cell_type": "markdown",
      "id": "24c4caa8-d71d-46a8-8859-a8e85c56acfe",
      "metadata": {
        "id": "24c4caa8-d71d-46a8-8859-a8e85c56acfe"
      },
      "source": [
        "**1.5) Replace hyperlinks with '' in every review**"
      ]
    },
    {
      "cell_type": "code",
      "execution_count": 51,
      "id": "ff5a7411-df49-427b-adef-5e8e63224db0",
      "metadata": {
        "id": "ff5a7411-df49-427b-adef-5e8e63224db0"
      },
      "outputs": [],
      "source": [
        "# code here\n",
        "for index, row in dev_text.items():\n",
        "    row = re.sub(r'https?:\\/\\/\\S+', '', row)\n",
        "\n",
        "for index, row in test_text.items():\n",
        "    row = re.sub(r'https?:\\/\\/\\S+', '', row)\n"
      ]
    },
    {
      "cell_type": "markdown",
      "id": "492ae463-b611-4292-9ad2-b778856bf8bc",
      "metadata": {
        "id": "492ae463-b611-4292-9ad2-b778856bf8bc"
      },
      "source": [
        "**1.6) Remove all stop words**"
      ]
    },
    {
      "cell_type": "code",
      "execution_count": 52,
      "id": "961d73fd-a662-46f2-85a2-83bf6b978189",
      "metadata": {
        "id": "961d73fd-a662-46f2-85a2-83bf6b978189"
      },
      "outputs": [],
      "source": [
        "# code here\n",
        "from sklearn.feature_extraction.text import ENGLISH_STOP_WORDS\n",
        "for index, row in dev_text.items():\n",
        "    for word in ENGLISH_STOP_WORDS:\n",
        "        row = re.sub(word, '', row)\n",
        "\n",
        "for index, row in test_text.items():\n",
        "    for word in ENGLISH_STOP_WORDS:\n",
        "        row = re.sub(word, '', row)"
      ]
    },
    {
      "cell_type": "markdown",
      "id": "169bf8ad-f7ba-4e67-a1a0-92fcdd193ab9",
      "metadata": {
        "id": "169bf8ad-f7ba-4e67-a1a0-92fcdd193ab9"
      },
      "source": [
        "**1.7) Remove all punctuations**"
      ]
    },
    {
      "cell_type": "code",
      "execution_count": 53,
      "id": "774743e0-8cf0-4dbb-a6fa-006ff076bb9e",
      "metadata": {
        "id": "774743e0-8cf0-4dbb-a6fa-006ff076bb9e"
      },
      "outputs": [],
      "source": [
        "# code here\n",
        "for index, row in dev_text.items():\n",
        "    row = re.sub(r'[^\\w\\s]', '', row)\n",
        "\n",
        "for index, row in test_text.items():\n",
        "    row = re.sub(r'[^\\w\\s]', '', row)\n"
      ]
    },
    {
      "cell_type": "markdown",
      "id": "b2f1af18-0c07-4ffb-994e-daead4740a53",
      "metadata": {
        "id": "b2f1af18-0c07-4ffb-994e-daead4740a53"
      },
      "source": [
        "**1.8) Apply stemming on the development & test datasets using Porter algorithm**"
      ]
    },
    {
      "cell_type": "code",
      "execution_count": 54,
      "id": "c84a52f6-a62a-4033-8d1d-239ff6904248",
      "metadata": {
        "id": "c84a52f6-a62a-4033-8d1d-239ff6904248"
      },
      "outputs": [],
      "source": [
        "#code here\n",
        "from nltk.stem import PorterStemmer\n",
        "from nltk.tokenize import word_tokenize\n",
        "\n",
        "ps = PorterStemmer()\n",
        "\n",
        "for index, row in dev_text.items():\n",
        "    row_words = word_tokenize(row)\n",
        "    for i, word in enumerate(row_words):\n",
        "        row_words[i] = ps.stem(word)\n",
        "    row = row_words\n",
        "\n",
        "for index, row in test_text.items():\n",
        "    row_words = word_tokenize(row)\n",
        "    for i, word in enumerate(row_words):\n",
        "        row_words[i] = ps.stem(word)\n",
        "    row = row_words"
      ]
    },
    {
      "cell_type": "markdown",
      "id": "687e23ef-dafd-4183-b2f1-86089e281dd8",
      "metadata": {
        "id": "687e23ef-dafd-4183-b2f1-86089e281dd8"
      },
      "source": [
        "#### **Model training**"
      ]
    },
    {
      "cell_type": "markdown",
      "id": "0c40fa44-01ad-4788-98b9-9c8f0c1252ef",
      "metadata": {
        "id": "0c40fa44-01ad-4788-98b9-9c8f0c1252ef"
      },
      "source": [
        "**1.9) Create bag of words features for each review in the development dataset**"
      ]
    },
    {
      "cell_type": "code",
      "execution_count": 55,
      "id": "c17c6b99-9dfb-4d30-9e03-d596a9da880a",
      "metadata": {
        "id": "c17c6b99-9dfb-4d30-9e03-d596a9da880a"
      },
      "outputs": [
        {
          "name": "stdout",
          "output_type": "stream",
          "text": [
            "dev shape:  (1600, 39659)\n",
            "test shape:  (400, 39659)\n"
          ]
        }
      ],
      "source": [
        "#code here\n",
        "from sklearn.feature_extraction.text import CountVectorizer\n",
        "vectorizer = CountVectorizer()\n",
        "vectorizer.fit(ds[\"review\"])\n",
        "dev_text_bag = vectorizer.transform(dev_text).toarray()\n",
        "test_text_bag = vectorizer.transform(test_text).toarray()\n",
        "\n",
        "print(\"dev shape: \", dev_text_bag.shape)\n",
        "print(\"test shape: \", test_text_bag.shape)"
      ]
    },
    {
      "cell_type": "markdown",
      "id": "4baf65cd-019b-4ff4-b93c-3ca8cfffca8e",
      "metadata": {
        "id": "4baf65cd-019b-4ff4-b93c-3ca8cfffca8e"
      },
      "source": [
        "**1.10) Train a Logistic Regression model on the development dataset**"
      ]
    },
    {
      "cell_type": "code",
      "execution_count": 56,
      "id": "3433a6b0-408d-462e-9072-3495b21bc97b",
      "metadata": {
        "id": "3433a6b0-408d-462e-9072-3495b21bc97b"
      },
      "outputs": [
        {
          "name": "stdout",
          "output_type": "stream",
          "text": [
            "Test Score: 0.812\n"
          ]
        }
      ],
      "source": [
        "#code here\n",
        "from sklearn.linear_model import LogisticRegressionCV\n",
        "\n",
        "lr_model = LogisticRegressionCV(max_iter=5000)\n",
        "lr_model.fit(dev_text_bag, dev_y)\n",
        "lr_score = lr_model.score(test_text_bag, test_y)\n",
        "\n",
        "print(\"Test Score: {:.3f}\".format(lr_score))"
      ]
    },
    {
      "cell_type": "markdown",
      "id": "1c16c6f6-7ab2-4d7a-b9dc-098a72381340",
      "metadata": {
        "id": "1c16c6f6-7ab2-4d7a-b9dc-098a72381340"
      },
      "source": [
        "**1.11) Create TF-IDF features for each review in the development dataset**"
      ]
    },
    {
      "cell_type": "code",
      "execution_count": 57,
      "id": "7b417843-ffc4-4614-b2ef-964f8ec3e510",
      "metadata": {
        "id": "7b417843-ffc4-4614-b2ef-964f8ec3e510"
      },
      "outputs": [
        {
          "name": "stdout",
          "output_type": "stream",
          "text": [
            "dev shape:  (1600, 39659)\n",
            "test shape:  (400, 39659)\n"
          ]
        }
      ],
      "source": [
        "#code here\n",
        "from sklearn.feature_extraction.text import TfidfVectorizer\n",
        "\n",
        "vectorizer_t = TfidfVectorizer()\n",
        "vectorizer_t.fit(ds[\"review\"])\n",
        "dev_X = vectorizer_t.transform(dev_text)\n",
        "test_X = vectorizer_t.transform(test_text)\n",
        "\n",
        "print(\"dev shape: \", dev_X.shape)\n",
        "print(\"test shape: \", test_X.shape)"
      ]
    },
    {
      "cell_type": "markdown",
      "id": "ea3c9776-aad9-4eda-b3c2-d9f6b3e52427",
      "metadata": {
        "id": "ea3c9776-aad9-4eda-b3c2-d9f6b3e52427"
      },
      "source": [
        "**1.12) Train the Logistic Regression model on the development dataset with TF-IDF features**"
      ]
    },
    {
      "cell_type": "code",
      "execution_count": 58,
      "id": "b8c7fe8b-61de-4daa-a338-74295a4902ce",
      "metadata": {
        "id": "b8c7fe8b-61de-4daa-a338-74295a4902ce"
      },
      "outputs": [
        {
          "name": "stdout",
          "output_type": "stream",
          "text": [
            "Test Score: 0.823\n"
          ]
        }
      ],
      "source": [
        "#code here\n",
        "from sklearn.linear_model import LogisticRegressionCV\n",
        "\n",
        "lr_model_t = LogisticRegressionCV(max_iter=5000)\n",
        "lr_model_t.fit(dev_X, dev_y)\n",
        "lr_score_t = lr_model_t.score(test_X, test_y)\n",
        "\n",
        "print(\"Test Score: {:.3f}\".format(lr_score_t))"
      ]
    },
    {
      "cell_type": "markdown",
      "id": "ab0129e7-a0ea-473e-9ad1-667b44a13a92",
      "metadata": {
        "id": "ab0129e7-a0ea-473e-9ad1-667b44a13a92"
      },
      "source": [
        "**1.13) Compare the performance of the two models on the test dataset. Explain the difference in results obtained?**"
      ]
    },
    {
      "cell_type": "code",
      "execution_count": 59,
      "id": "7ca644f9",
      "metadata": {
        "id": "7ca644f9"
      },
      "outputs": [
        {
          "name": "stdout",
          "output_type": "stream",
          "text": [
            "Test Score Original:\t 0.812\n",
            "Test Score TF-IDF:\t 0.823\n"
          ]
        }
      ],
      "source": [
        "#code here\n",
        "print(\"Test Score Original:\\t {:.3f}\".format(lr_score))\n",
        "print(\"Test Score TF-IDF:\\t {:.3f}\".format(lr_score_t))"
      ]
    },
    {
      "cell_type": "code",
      "execution_count": 60,
      "id": "2da410d2",
      "metadata": {},
      "outputs": [
        {
          "data": {
            "text/plain": [
              "\" \\nBoth accuracies are very similar.  Presuamably many of the 'uesless words' were taking out with the manual filtering.\\nThough the TF-IDF model is slightly better due to the extra evel of filtering, presumably.\\n\""
            ]
          },
          "execution_count": 60,
          "metadata": {},
          "output_type": "execute_result"
        }
      ],
      "source": [
        "\"\"\" \n",
        "Both accuracies are very similar.  Presuamably many of the 'uesless words' were taking out with the manual filtering.\n",
        "Though the TF-IDF model is slightly better due to the extra level of filtering, presumably.\n",
        "\"\"\""
      ]
    },
    {
      "cell_type": "code",
      "execution_count": null,
      "id": "31e295fd",
      "metadata": {},
      "outputs": [],
      "source": []
    }
  ],
  "metadata": {
    "colab": {
      "provenance": []
    },
    "kernelspec": {
      "display_name": "Python 3.9.5 64-bit",
      "language": "python",
      "name": "python3"
    },
    "language_info": {
      "codemirror_mode": {
        "name": "ipython",
        "version": 3
      },
      "file_extension": ".py",
      "mimetype": "text/x-python",
      "name": "python",
      "nbconvert_exporter": "python",
      "pygments_lexer": "ipython3",
      "version": "3.9.5 (tags/v3.9.5:0a7dcbd, May  3 2021, 17:27:52) [MSC v.1928 64 bit (AMD64)]"
    },
    "vscode": {
      "interpreter": {
        "hash": "6fe2be03ae0c1b10b9498cca35aabbb52ffd76ba5182f3e1fd797583a726db8f"
      }
    }
  },
  "nbformat": 4,
  "nbformat_minor": 5
}
